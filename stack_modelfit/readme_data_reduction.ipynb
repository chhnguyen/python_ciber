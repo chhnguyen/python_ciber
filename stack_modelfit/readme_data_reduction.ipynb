{
 "cells": [
  {
   "cell_type": "markdown",
   "metadata": {},
   "source": [
    "# Image Reduction Pipeline Note\n",
    "This notebook break down the steps in flight data reduction pipline class \"image_reduction\". The whole pipeline can be run by \"image_reduction(inst)\"."
   ]
  },
  {
   "cell_type": "markdown",
   "metadata": {},
   "source": [
    "add a ciber_info.py file with the following class."
   ]
  },
  {
   "cell_type": "code",
   "execution_count": null,
   "metadata": {},
   "outputs": [],
   "source": [
    "mypaths = {'ciberdir':'/Users/ytcheng/ciber/',\n",
    "           'DCdir': '/Users/ytcheng/ciber/doc/20160808_DarkProcess/40030/',\n",
    "           'framedir':'/Users/ytcheng/ciber/data/framedata/',\n",
    "           'alldat':'/Users/ytcheng/ciber/doc/20170325_alldat/',\n",
    "           'PScatdat':'/Users/ytcheng/ciber/doc/20170617_Stacking/maps/catcoord/PanSTARRS/',\n",
    "           '2Mcatdat':'/Users/ytcheng/ciber/doc/20170617_Stacking/maps/catcoord/PSC/',\n",
    "          }"
   ]
  },
  {
   "cell_type": "code",
   "execution_count": 2,
   "metadata": {},
   "outputs": [],
   "source": [
    "%matplotlib notebook\n",
    "import matplotlib.pylab as plt\n",
    "import os\n",
    "from scipy.io import loadmat\n",
    "import numpy as np\n",
    "from ciber_info import *\n",
    "from mask import *\n",
    "from srcmap import *\n",
    "from skimage import restoration\n",
    "from scipy.optimize import curve_fit"
   ]
  },
  {
   "cell_type": "code",
   "execution_count": 3,
   "metadata": {},
   "outputs": [],
   "source": [
    "# I(1) or H(2) band?\n",
    "inst = 1"
   ]
  },
  {
   "cell_type": "code",
   "execution_count": null,
   "metadata": {},
   "outputs": [],
   "source": [
    "# get the dark current and instrument mask data\n",
    "\n"
   ]
  }
 ],
 "metadata": {
  "kernelspec": {
   "display_name": "Python [default]",
   "language": "python",
   "name": "python3"
  },
  "language_info": {
   "codemirror_mode": {
    "name": "ipython",
    "version": 3
   },
   "file_extension": ".py",
   "mimetype": "text/x-python",
   "name": "python",
   "nbconvert_exporter": "python",
   "pygments_lexer": "ipython3",
   "version": "3.5.4"
  }
 },
 "nbformat": 4,
 "nbformat_minor": 4
}
