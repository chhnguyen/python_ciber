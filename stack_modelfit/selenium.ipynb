{
 "cells": [
  {
   "cell_type": "code",
   "execution_count": 3,
   "metadata": {},
   "outputs": [],
   "source": [
    "from micecat_auto import *"
   ]
  },
  {
   "cell_type": "code",
   "execution_count": 31,
   "metadata": {},
   "outputs": [],
   "source": [
    "request_id_dict = {}\n",
    "for icat in np.arange(167,200,1):\n",
    "    driver = query_micecat()\n",
    "    sql = gen_sql(icat, select_top=None)\n",
    "    request_id = sendSQL_micecat(driver, sql)\n",
    "    request_id_dict[icat] = request_id\n",
    "    print('query cat %d, request id %d'%(icat, request_id))\n",
    "    driver.quit()\n",
    "    \n",
    "    time.sleep(120)\n",
    "    driver = dowload_micecat({icat: request_id})\n",
    "    time.sleep(60)\n",
    "    driver.quit()\n",
    "    process_downloaded_micecat({icat: request_id})"
   ]
  },
  {
   "cell_type": "code",
   "execution_count": 60,
   "metadata": {},
   "outputs": [
    {
     "name": "stdout",
     "output_type": "stream",
     "text": [
      "cat #39, 0-th order filter\n",
      "cat #39, 0-th order filter, stack 16 < m < 17\n",
      "stack 0/150 sources\n",
      "stack 100/150 sources\n",
      "cat #39, 0-th order filter, stack 17 < m < 18\n",
      "stack 0/563 sources\n",
      "stack 100/563 sources\n",
      "stack 200/563 sources\n",
      "stack 300/563 sources\n",
      "stack 400/563 sources\n",
      "stack 500/563 sources\n"
     ]
    }
   ],
   "source": [
    "data_dict = run_micecat_auto_fliter_test_cen(1, 39, save_data = True)"
   ]
  }
 ],
 "metadata": {
  "kernelspec": {
   "display_name": "Python [default]",
   "language": "python",
   "name": "python3"
  },
  "language_info": {
   "codemirror_mode": {
    "name": "ipython",
    "version": 3
   },
   "file_extension": ".py",
   "mimetype": "text/x-python",
   "name": "python",
   "nbconvert_exporter": "python",
   "pygments_lexer": "ipython3",
   "version": "3.5.4"
  }
 },
 "nbformat": 4,
 "nbformat_minor": 4
}
