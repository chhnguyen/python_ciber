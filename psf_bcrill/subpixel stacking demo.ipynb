{
 "cells": [
  {
   "cell_type": "code",
   "execution_count": 1,
   "metadata": {
    "collapsed": true
   },
   "outputs": [],
   "source": [
    "# helper functions\n",
    "from scipy.misc import imresize\n",
    "from scipy.signal import convolve2d\n",
    "from scipy import fftpack\n",
    "\n",
    "def make_radius_map(Nx,Ny,dx,dy,x0,y0):\n",
    "    yy,xx = np.meshgrid(np.arange(Nx),np.arange(Nx))\n",
    "    rr = np.sqrt(((xx-x0)*dx)**2 + ((yy-y0)*dy)**2)\n",
    "    return rr\n",
    "\n",
    "def gauss2d(rr,dx,dy,sig):\n",
    "    g = np.exp(-rr**2/2./sig**2) / (2*np.pi*sig**2)\n",
    "    g *= dx*dy\n",
    "    return g\n",
    "\n",
    "def make_xxyy_map(Nx,Ny,dx,dy,x0,y0):\n",
    "    yy,xx = np.meshgrid(np.arange(Nx),np.arange(Nx))\n",
    "    xx = (xx-x0) * dx\n",
    "    yy  =(yy-y0) * dy\n",
    "    return xx,yy\n",
    "\n",
    "def gauss2d_ellipse(xx,yy,dx,dy,sigx,sigy):\n",
    "    g = np.exp(-xx**2/2./sigx**2)*np.exp(-yy**2/2./sigy**2) / (2*np.pi*sigx*sigy)\n",
    "    g *= dx*dy\n",
    "    return g\n",
    "\n",
    "def rebin_map_coarse(mapin,Nx,Ny):\n",
    "    '''\n",
    "    binning Nx,Ny mapin pixel to a large pixel.\n",
    "    '''\n",
    "    Nsx,Nsy = mapin.shape\n",
    "    Nlx = round(Nsx/Nx)\n",
    "    Nly = round(Nsy/Ny)\n",
    "    \n",
    "    rbmap=np.zeros([Nlx,Nly])\n",
    "    for i in np.arange(Nlx):\n",
    "        for j in np.arange(Nly):\n",
    "            rbmap[i,j]=np.mean(mapin[i*Nx:(i+1)*Nx,j*Ny:(j+1)*Ny])\n",
    "\n",
    "    return rbmap\n",
    "\n",
    "def get_1D_profile(mapin,dx,dy, logbin=True, nbins = 15, binedges = []):\n",
    "    rr = make_radius_map(mapin.shape[0],mapin.shape[1],dx,dy,Nsub,Nsub)\n",
    "    rmin = min(rr[rr>0])\n",
    "    rmax = max(rr[rr>0])\n",
    "\n",
    "    if len(binedges)==0:\n",
    "        if logbin: \n",
    "            binedges = np.logspace(np.log10(rmin),np.log10(rmax), nbins+1)\n",
    "            bins = (binedges[:-1] + binedges[1:]) / 2\n",
    "            binedges[0] = 0\n",
    "            binedges[-1] *= 1.01\n",
    "        else: \n",
    "            binedges = np.linspace(np.min(rmin), rmax, nbins+1)\n",
    "            bins = np.sqrt(binedges[:-1] * binedges[1:])\n",
    "            binedges[-1] *= 1.01\n",
    "\n",
    "    else:\n",
    "        bins = (binedges[:-1] + binedges[1:]) / 2\n",
    "    \n",
    "    P1D = np.histogram(rr, bins=binedges, weights=mapin)[0] \\\n",
    "         / np.histogram(rr, bins=binedges)[0]\n",
    "    \n",
    "    return P1D,bins"
   ]
  },
  {
   "cell_type": "code",
   "execution_count": 92,
   "metadata": {},
   "outputs": [],
   "source": [
    "rr = make_radius_map(1500,1500,1/500,1/500,850,650)\n",
    "psf_beam = gauss2d(rr,1,1,100)\n",
    "psf_beam_large = rebin_map_coarse(psf_beam,300,300)"
   ]
  },
  {
   "cell_type": "code",
   "execution_count": 116,
   "metadata": {},
   "outputs": [
    {
     "data": {
      "image/png": "[encoded data removed]",
      "text/plain": [
       "<Figure size 216x216 with 1 Axes>"
      ]
     },
     "metadata": {},
     "output_type": "display_data"
    },
    {
     "data": {
      "image/png": "[encoded data removed]",
      "text/plain": [
       "<Figure size 216x216 with 1 Axes>"
      ]
     },
     "metadata": {},
     "output_type": "display_data"
    },
    {
     "data": {
      "image/png": "[encoded data removed]",
      "text/plain": [
       "<Figure size 216x216 with 1 Axes>"
      ]
     },
     "metadata": {},
     "output_type": "display_data"
    },
    {
     "data": {
      "image/png": "[encoded data removed]",
      "text/plain": [
       "<Figure size 216x216 with 1 Axes>"
      ]
     },
     "metadata": {},
     "output_type": "display_data"
    }
   ],
   "source": [
    "plt.figure(figsize=(3,3))\n",
    "for (x,y) in zip([1,2,3,4,5,6],[1,2,3,4,5,6]):\n",
    "    plt.axvline(x,c='darkgoldenrod',lw=3)\n",
    "    plt.axhline(y,c='darkgoldenrod',lw=3)\n",
    "plt.axis('off')\n",
    "plt.savefig('/Users/ytcheng/Desktop/1.png', dpi = 300)\n",
    "\n",
    "plt.figure(figsize=(3,3))\n",
    "plt.imshow(psf_beam,vmin=np.min(psf_beam_large), vmax=np.max(psf_beam_large))\n",
    "plt.plot([650],[850],'r*')\n",
    "for (x,y) in zip([300,600,900,1200],[300,600,900,1200]):\n",
    "    plt.axvline(x,c='darkgoldenrod',lw=3)\n",
    "    plt.axhline(y,c='darkgoldenrod',lw=3)\n",
    "plt.axis('off')\n",
    "plt.savefig('/Users/ytcheng/Desktop/2.png', dpi = 300)\n",
    "\n",
    "plt.figure(figsize=(3,3))\n",
    "plt.plot([1.66],[2.33],'r*')\n",
    "plt.imshow(psf_beam_large,vmin=np.min(psf_beam_large), vmax=np.max(psf_beam_large))\n",
    "for (x,y) in zip([0.5,1.5,2.5,3.5],[0.5,1.5,2.5,3.5]):\n",
    "    plt.axvline(x,c='darkgoldenrod',lw=3)\n",
    "    plt.axhline(y,c='darkgoldenrod',lw=3)\n",
    "plt.axis('off')\n",
    "plt.savefig('/Users/ytcheng/Desktop/3.png', dpi = 300)\n",
    "\n",
    "\n",
    "plt.figure(figsize=(3,3))\n",
    "plt.plot([1.66],[2.33],'r*')\n",
    "plt.imshow(psf_beam_large,vmin=np.min(psf_beam_large), vmax=np.max(psf_beam_large))\n",
    "for (x,y) in zip([0.5,1.5,2.5,3.5],[0.5,1.5,2.5,3.5]):\n",
    "    plt.axvline(x,c='darkgoldenrod',lw=3)\n",
    "    plt.axhline(y,c='darkgoldenrod',lw=3)\n",
    "plt.axis('off')\n",
    "for (x,y) in zip(np.arange(1/3,1/3*15,1/3)-0.5,np.arange(1/3,1/3*15,1/3)-0.5):\n",
    "    plt.axvline(x,c='darkgoldenrod',lw=1)\n",
    "    plt.axhline(y,c='darkgoldenrod',lw=1)\n",
    "plt.savefig('/Users/ytcheng/Desktop/4.png', dpi = 300)"
   ]
  }
 ],
 "metadata": {
  "anaconda-cloud": {},
  "kernelspec": {
   "display_name": "Python [default]",
   "language": "python",
   "name": "python3"
  },
  "language_info": {
   "codemirror_mode": {
    "name": "ipython",
    "version": 3
   },
   "file_extension": ".py",
   "mimetype": "text/x-python",
   "name": "python",
   "nbconvert_exporter": "python",
   "pygments_lexer": "ipython3",
   "version": "3.5.4"
  },
  "varInspector": {
   "cols": {
    "lenName": 16,
    "lenType": 16,
    "lenVar": 40
   },
   "kernels_config": {
    "python": {
     "delete_cmd_postfix": "",
     "delete_cmd_prefix": "del ",
     "library": "var_list.py",
     "varRefreshCmd": "print(var_dic_list())"
    },
    "r": {
     "delete_cmd_postfix": ") ",
     "delete_cmd_prefix": "rm(",
     "library": "var_list.r",
     "varRefreshCmd": "cat(var_dic_list()) "
    }
   },
   "types_to_exclude": [
    "module",
    "function",
    "builtin_function_or_method",
    "instance",
    "_Feature"
   ],
   "window_display": false
  }
 },
 "nbformat": 4,
 "nbformat_minor": 2
}
