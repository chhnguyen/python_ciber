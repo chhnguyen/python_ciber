{
 "cells": [
  {
   "cell_type": "code",
   "execution_count": 1,
   "metadata": {},
   "outputs": [],
   "source": [
    "import rld\n",
    "import pickle\n",
    "\n",
    "pix_size = 6. # arcseconds\n",
    "\n",
    "fp = open('Example_Stack.pkl','rb')\n",
    "Example_Stack = pickle.load(fp)\n",
    "bin_edge = pickle.load(fp)\n",
    "fp.close()"
   ]
  },
  {
   "cell_type": "code",
   "execution_count": 5,
   "metadata": {},
   "outputs": [
    {
     "data": {
      "text/plain": [
       "((133, 133), (134,))"
      ]
     },
     "execution_count": 5,
     "metadata": {},
     "output_type": "execute_result"
    }
   ],
   "source": [
    "Example_Stack.shape,bin_edge.shape"
   ]
  },
  {
   "cell_type": "code",
   "execution_count": 6,
   "metadata": {},
   "outputs": [
    {
     "data": {
      "text/plain": [
       "<matplotlib.image.AxesImage at 0x119c20198>"
      ]
     },
     "execution_count": 6,
     "metadata": {},
     "output_type": "execute_result"
    },
    {
     "data": {
      "image/png": "[encoded data removed]",
      "text/plain": [
       "<matplotlib.figure.Figure at 0x119c4e8d0>"
      ]
     },
     "metadata": {},
     "output_type": "display_data"
    }
   ],
   "source": [
    "plt.imshow(Example_Stack)"
   ]
  },
  {
   "cell_type": "code",
   "execution_count": 4,
   "metadata": {},
   "outputs": [
    {
     "data": {
      "text/plain": [
       "array([-4.  , -3.94, -3.88, -3.82, -3.76, -3.7 , -3.64, -3.58, -3.52,\n",
       "       -3.46, -3.4 , -3.34, -3.28, -3.22, -3.16, -3.1 , -3.04, -2.98,\n",
       "       -2.92, -2.86, -2.8 , -2.74, -2.68, -2.62, -2.56, -2.5 , -2.44,\n",
       "       -2.38, -2.32, -2.26, -2.2 , -2.14, -2.08, -2.02, -1.96, -1.9 ,\n",
       "       -1.84, -1.78, -1.72, -1.66, -1.6 , -1.54, -1.48, -1.42, -1.36,\n",
       "       -1.3 , -1.24, -1.18, -1.12, -1.06, -1.  , -0.94, -0.88, -0.82,\n",
       "       -0.76, -0.7 , -0.64, -0.58, -0.52, -0.46, -0.4 , -0.34, -0.28,\n",
       "       -0.22, -0.16, -0.1 , -0.04,  0.02,  0.08,  0.14,  0.2 ,  0.26,\n",
       "        0.32,  0.38,  0.44,  0.5 ,  0.56,  0.62,  0.68,  0.74,  0.8 ,\n",
       "        0.86,  0.92,  0.98,  1.04,  1.1 ,  1.16,  1.22,  1.28,  1.34,\n",
       "        1.4 ,  1.46,  1.52,  1.58,  1.64,  1.7 ,  1.76,  1.82,  1.88,\n",
       "        1.94,  2.  ,  2.06,  2.12,  2.18,  2.24,  2.3 ,  2.36,  2.42,\n",
       "        2.48,  2.54,  2.6 ,  2.66,  2.72,  2.78,  2.84,  2.9 ,  2.96,\n",
       "        3.02,  3.08,  3.14,  3.2 ,  3.26,  3.32,  3.38,  3.44,  3.5 ,\n",
       "        3.56,  3.62,  3.68,  3.74,  3.8 ,  3.86,  3.92,  3.98])"
      ]
     },
     "execution_count": 4,
     "metadata": {},
     "output_type": "execute_result"
    }
   ],
   "source": [
    "bin_edge"
   ]
  },
  {
   "cell_type": "code",
   "execution_count": 7,
   "metadata": {
    "collapsed": true
   },
   "outputs": [],
   "source": [
    "#build a pixel shape\n",
    "\n",
    "apixel = np.zeros(np.shape(Example_Stack))\n",
    "bin_edge = bin_edge*pix_size\n",
    "xx,yy = np.meshgrid((bin_edge[1:] + bin_edge[:-1])/2.0,(bin_edge[1:] + bin_edge[:-1])/2.0)\n",
    "\n",
    "ii = np.where((xx<0.5*pix_size)&(xx>=-0.5*pix_size)&(yy>=-0.5*pix_size)&(yy<0.5*pix_size))\n",
    "apixel[ii] = 1.0"
   ]
  },
  {
   "cell_type": "code",
   "execution_count": 8,
   "metadata": {},
   "outputs": [
    {
     "data": {
      "text/plain": [
       "<matplotlib.image.AxesImage at 0x119c2b048>"
      ]
     },
     "execution_count": 8,
     "metadata": {},
     "output_type": "execute_result"
    },
    {
     "data": {
      "image/png": "[encoded data removed]",
      "text/plain": [
       "<matplotlib.figure.Figure at 0x119c5e9e8>"
      ]
     },
     "metadata": {},
     "output_type": "display_data"
    }
   ],
   "source": [
    "plt.imshow(apixel)"
   ]
  },
  {
   "cell_type": "code",
   "execution_count": 23,
   "metadata": {},
   "outputs": [
    {
     "data": {
      "text/plain": [
       "(378.42336989682212, 289.0)"
      ]
     },
     "execution_count": 23,
     "metadata": {},
     "output_type": "execute_result"
    }
   ],
   "source": [
    "np.sum(Deconvolved_Stack/np.sum(apixel)),np.sum(apixel)"
   ]
  },
  {
   "cell_type": "code",
   "execution_count": 21,
   "metadata": {},
   "outputs": [
    {
     "name": "stdout",
     "output_type": "stream",
     "text": [
      "6.65002379968\n",
      "6.2708503438\n",
      "6.01780311185\n",
      "5.83622888843\n",
      "5.70136458645\n",
      "5.59899174722\n",
      "5.52002666465\n",
      "5.45832726779\n",
      "5.40959154978\n",
      "5.37073054773\n",
      "5.33948335811\n",
      "5.31416897548\n",
      "5.2935208096\n",
      "5.27657345523\n",
      "5.2625835735\n",
      "5.25097361394\n",
      "5.24129115834\n",
      "5.23317914892\n",
      "5.22635382606\n",
      "5.22058820786\n",
      "5.21569960569\n",
      "5.21154011312\n",
      "5.20798930743\n",
      "5.20494861207\n",
      "5.20233691554\n"
     ]
    },
    {
     "data": {
      "text/plain": [
       "<matplotlib.collections.QuadMesh at 0x11c039a20>"
      ]
     },
     "execution_count": 21,
     "metadata": {},
     "output_type": "execute_result"
    },
    {
     "data": {
      "image/png": "[encoded data removed]",
      "text/plain": [
       "<matplotlib.figure.Figure at 0x119d10438>"
      ]
     },
     "metadata": {},
     "output_type": "display_data"
    }
   ],
   "source": [
    "Deconvolved_Stack = rld.rld(Example_Stack,apixel,niter=25)\n",
    "\n",
    "plt.pcolormesh(Deconvolved_Stack)\n"
   ]
  },
  {
   "cell_type": "code",
   "execution_count": 30,
   "metadata": {},
   "outputs": [
    {
     "data": {
      "text/plain": [
       "(133, 133)"
      ]
     },
     "execution_count": 30,
     "metadata": {},
     "output_type": "execute_result"
    }
   ],
   "source": [
    "apixel.shape"
   ]
  },
  {
   "cell_type": "code",
   "execution_count": 25,
   "metadata": {},
   "outputs": [],
   "source": [
    "from scipy.signal import convolve2d\n",
    "\n",
    "x, y = np.meshgrid(np.linspace(-1,1,10), np.linspace(-1,1,10))\n",
    "d = np.sqrt(x*x+y*y)\n",
    "sigma, mu = 1.0, 0.0\n",
    "g = np.exp(-( (d-mu)**2 / ( 2.0 * sigma**2 ) ) )\n",
    "\n",
    "c = convolve2d(Example_Stack,apixel,mode='same')"
   ]
  },
  {
   "cell_type": "code",
   "execution_count": 26,
   "metadata": {},
   "outputs": [
    {
     "data": {
      "text/plain": [
       "<matplotlib.image.AxesImage at 0x11bfe0898>"
      ]
     },
     "execution_count": 26,
     "metadata": {},
     "output_type": "execute_result"
    },
    {
     "data": {
      "image/png": "[encoded data removed]",
      "text/plain": [
       "<matplotlib.figure.Figure at 0x11c025470>"
      ]
     },
     "metadata": {},
     "output_type": "display_data"
    }
   ],
   "source": [
    "plt.imshow(c)"
   ]
  },
  {
   "cell_type": "code",
   "execution_count": 27,
   "metadata": {},
   "outputs": [
    {
     "data": {
      "text/plain": [
       "<matplotlib.image.AxesImage at 0x11c2e1b38>"
      ]
     },
     "execution_count": 27,
     "metadata": {},
     "output_type": "execute_result"
    },
    {
     "data": {
      "image/png": "[encoded data removed]",
      "text/plain": [
       "<matplotlib.figure.Figure at 0x11c025a90>"
      ]
     },
     "metadata": {},
     "output_type": "display_data"
    }
   ],
   "source": [
    "plt.imshow(Example_Stack)"
   ]
  },
  {
   "cell_type": "code",
   "execution_count": 29,
   "metadata": {},
   "outputs": [
    {
     "data": {
      "text/plain": [
       "((array([65]), array([70])), (array([66]), array([68])))"
      ]
     },
     "execution_count": 29,
     "metadata": {},
     "output_type": "execute_result"
    }
   ],
   "source": [
    "np.where(Example_Stack==np.max(Example_Stack)),np.where(c==np.max(c))"
   ]
  },
  {
   "cell_type": "code",
   "execution_count": 31,
   "metadata": {},
   "outputs": [
    {
     "data": {
      "text/plain": [
       "(array([66]), array([68]))"
      ]
     },
     "execution_count": 31,
     "metadata": {},
     "output_type": "execute_result"
    }
   ],
   "source": [
    "np.where(Deconvolved_Stack==np.max(Deconvolved_Stack))"
   ]
  }
 ],
 "metadata": {
  "anaconda-cloud": {},
  "kernelspec": {
   "display_name": "Python [default]",
   "language": "python",
   "name": "python3"
  },
  "language_info": {
   "codemirror_mode": {
    "name": "ipython",
    "version": 3
   },
   "file_extension": ".py",
   "mimetype": "text/x-python",
   "name": "python",
   "nbconvert_exporter": "python",
   "pygments_lexer": "ipython3",
   "version": "3.5.4"
  },
  "varInspector": {
   "cols": {
    "lenName": 16,
    "lenType": 16,
    "lenVar": 40
   },
   "kernels_config": {
    "python": {
     "delete_cmd_postfix": "",
     "delete_cmd_prefix": "del ",
     "library": "var_list.py",
     "varRefreshCmd": "print(var_dic_list())"
    },
    "r": {
     "delete_cmd_postfix": ") ",
     "delete_cmd_prefix": "rm(",
     "library": "var_list.r",
     "varRefreshCmd": "cat(var_dic_list()) "
    }
   },
   "types_to_exclude": [
    "module",
    "function",
    "builtin_function_or_method",
    "instance",
    "_Feature"
   ],
   "window_display": false
  }
 },
 "nbformat": 4,
 "nbformat_minor": 2
}
