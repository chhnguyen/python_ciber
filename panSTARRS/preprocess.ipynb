{
 "cells": [
  {
   "cell_type": "markdown",
   "metadata": {},
   "source": [
    "## combine 4 data files\n",
    "\n",
    "Drop the duplicated sources, and add x,y coord (w.r.t each quadrant)."
   ]
  },
  {
   "cell_type": "code",
   "execution_count": 1,
   "metadata": {
    "collapsed": true
   },
   "outputs": [],
   "source": [
    "inst = 1\n",
    "field = 'SWIRE'\n",
    "\n",
    "datadir='../../doc/20170617_Stacking/maps/PanSTARRScats/'\n",
    "\n",
    "df1 = pd.read_csv(datadir + 'SWIRE1_raw.csv')\n",
    "df2 = pd.read_csv(datadir + 'SWIRE2_raw.csv')\n",
    "df3 = pd.read_csv(datadir + 'SWIRE3_raw.csv')\n",
    "df4 = pd.read_csv(datadir + 'SWIRE4_raw.csv')"
   ]
  },
  {
   "cell_type": "code",
   "execution_count": 2,
   "metadata": {
    "collapsed": true
   },
   "outputs": [],
   "source": [
    "order = [c for c in df1.columns]\n",
    "df = pd.concat([df1,df2,df3,df4]).drop_duplicates(subset = 'ObjID')\n",
    "df = df.drop(['ObjID'],axis=1)\n",
    "order = order[1:]"
   ]
  },
  {
   "cell_type": "code",
   "execution_count": 3,
   "metadata": {
    "collapsed": true
   },
   "outputs": [],
   "source": [
    "df = df.replace(-999,np.nan)"
   ]
  },
  {
   "cell_type": "code",
   "execution_count": 4,
   "metadata": {},
   "outputs": [
    {
     "name": "stdout",
     "output_type": "stream",
     "text": [
      "['ra', 'dec', 'gMeanPSFMag', 'rMeanPSFMag', 'iMeanPSFMag', 'zMeanPSFMag', 'yMeanPSFMag', 'gMeanKronMag', 'rMeanKronMag', 'iMeanKronMag', 'zMeanKronMag', 'yMeanKronMag', 'gMeanApMag', 'rMeanApMag', 'iMeanApMag', 'zMeanApMag', 'yMeanApMag', 'qualityFlag', 'objInfoFlag']\n"
     ]
    }
   ],
   "source": [
    "print(list(df))"
   ]
  },
  {
   "cell_type": "code",
   "execution_count": 5,
   "metadata": {
    "collapsed": true
   },
   "outputs": [],
   "source": [
    "df['minMag'] = df[['gMeanPSFMag', 'rMeanPSFMag', 'iMeanPSFMag', 'zMeanPSFMag',\\\n",
    "                    'yMeanPSFMag', 'gMeanKronMag', 'rMeanKronMag', 'iMeanKronMag',\\\n",
    "                    'zMeanKronMag', 'yMeanKronMag', 'gMeanApMag', 'rMeanApMag',\\\n",
    "                    'iMeanApMag', 'zMeanApMag', 'yMeanApMag']].min(axis=1)\n",
    "df['min_col'] = df[['gMeanPSFMag', 'rMeanPSFMag', 'iMeanPSFMag', 'zMeanPSFMag',\\\n",
    "                    'yMeanPSFMag', 'gMeanKronMag', 'rMeanKronMag', 'iMeanKronMag',\\\n",
    "                    'zMeanKronMag', 'yMeanKronMag', 'gMeanApMag', 'rMeanApMag',\\\n",
    "                    'iMeanApMag', 'zMeanApMag', 'yMeanApMag']].idxmin(axis=1)"
   ]
  },
  {
   "cell_type": "code",
   "execution_count": 6,
   "metadata": {
    "collapsed": true
   },
   "outputs": [],
   "source": [
    "df['yminMag'] = df[['yMeanPSFMag','yMeanKronMag','yMeanApMag']].min(axis=1)\n",
    "df['ymin_col'] = df[['yMeanPSFMag','yMeanKronMag','yMeanApMag']].idxmin(axis=1)\n",
    "order = order[0:2] + ['yminMag','ymin_col'] + order[2:]"
   ]
  },
  {
   "cell_type": "code",
   "execution_count": 7,
   "metadata": {
    "collapsed": true
   },
   "outputs": [],
   "source": [
    "df = df.sort_values('yminMag')\n",
    "df = df.reset_index(drop=True)"
   ]
  },
  {
   "cell_type": "code",
   "execution_count": 8,
   "metadata": {
    "collapsed": true
   },
   "outputs": [],
   "source": [
    "df = df.replace(np.nan,-999.)"
   ]
  },
  {
   "cell_type": "code",
   "execution_count": 9,
   "metadata": {
    "collapsed": true
   },
   "outputs": [],
   "source": [
    "df = df[order]"
   ]
  },
  {
   "cell_type": "code",
   "execution_count": 10,
   "metadata": {},
   "outputs": [
    {
     "data": {
      "text/html": [
       "<div>\n",
       "<style>\n",
       "    .dataframe thead tr:only-child th {\n",
       "        text-align: right;\n",
       "    }\n",
       "\n",
       "    .dataframe thead th {\n",
       "        text-align: left;\n",
       "    }\n",
       "\n",
       "    .dataframe tbody tr th {\n",
       "        vertical-align: top;\n",
       "    }\n",
       "</style>\n",
       "<table border=\"1\" class=\"dataframe\">\n",
       "  <thead>\n",
       "    <tr style=\"text-align: right;\">\n",
       "      <th></th>\n",
       "      <th>ra</th>\n",
       "      <th>dec</th>\n",
       "      <th>yminMag</th>\n",
       "      <th>ymin_col</th>\n",
       "      <th>gMeanPSFMag</th>\n",
       "      <th>rMeanPSFMag</th>\n",
       "      <th>iMeanPSFMag</th>\n",
       "      <th>zMeanPSFMag</th>\n",
       "      <th>yMeanPSFMag</th>\n",
       "      <th>gMeanKronMag</th>\n",
       "      <th>...</th>\n",
       "      <th>iMeanKronMag</th>\n",
       "      <th>zMeanKronMag</th>\n",
       "      <th>yMeanKronMag</th>\n",
       "      <th>gMeanApMag</th>\n",
       "      <th>rMeanApMag</th>\n",
       "      <th>iMeanApMag</th>\n",
       "      <th>zMeanApMag</th>\n",
       "      <th>yMeanApMag</th>\n",
       "      <th>qualityFlag</th>\n",
       "      <th>objInfoFlag</th>\n",
       "    </tr>\n",
       "  </thead>\n",
       "  <tbody>\n",
       "    <tr>\n",
       "      <th>0</th>\n",
       "      <td>241.093416</td>\n",
       "      <td>55.335304</td>\n",
       "      <td>6.49163</td>\n",
       "      <td>yMeanPSFMag</td>\n",
       "      <td>-999.00000</td>\n",
       "      <td>-999.00000</td>\n",
       "      <td>-999.0</td>\n",
       "      <td>-999.00000</td>\n",
       "      <td>6.49163</td>\n",
       "      <td>-999.0000</td>\n",
       "      <td>...</td>\n",
       "      <td>-999.0</td>\n",
       "      <td>-999.000</td>\n",
       "      <td>12.9557</td>\n",
       "      <td>-999.0000</td>\n",
       "      <td>-999.0000</td>\n",
       "      <td>-999.0</td>\n",
       "      <td>-999.0000</td>\n",
       "      <td>17.439899</td>\n",
       "      <td>32</td>\n",
       "      <td>268513280</td>\n",
       "    </tr>\n",
       "    <tr>\n",
       "      <th>1</th>\n",
       "      <td>242.573392</td>\n",
       "      <td>54.657916</td>\n",
       "      <td>6.90106</td>\n",
       "      <td>yMeanPSFMag</td>\n",
       "      <td>8.84053</td>\n",
       "      <td>8.17406</td>\n",
       "      <td>-999.0</td>\n",
       "      <td>-999.00000</td>\n",
       "      <td>6.90106</td>\n",
       "      <td>12.3405</td>\n",
       "      <td>...</td>\n",
       "      <td>-999.0</td>\n",
       "      <td>-999.000</td>\n",
       "      <td>10.4736</td>\n",
       "      <td>15.6011</td>\n",
       "      <td>15.3494</td>\n",
       "      <td>-999.0</td>\n",
       "      <td>-999.0000</td>\n",
       "      <td>13.094000</td>\n",
       "      <td>160</td>\n",
       "      <td>1343750144</td>\n",
       "    </tr>\n",
       "    <tr>\n",
       "      <th>2</th>\n",
       "      <td>242.573199</td>\n",
       "      <td>54.658166</td>\n",
       "      <td>7.00679</td>\n",
       "      <td>yMeanPSFMag</td>\n",
       "      <td>10.15500</td>\n",
       "      <td>-999.00000</td>\n",
       "      <td>-999.0</td>\n",
       "      <td>-999.00000</td>\n",
       "      <td>7.00679</td>\n",
       "      <td>12.5871</td>\n",
       "      <td>...</td>\n",
       "      <td>-999.0</td>\n",
       "      <td>-999.000</td>\n",
       "      <td>-999.0000</td>\n",
       "      <td>13.5589</td>\n",
       "      <td>-999.0000</td>\n",
       "      <td>-999.0</td>\n",
       "      <td>-999.0000</td>\n",
       "      <td>-999.000000</td>\n",
       "      <td>32</td>\n",
       "      <td>268959744</td>\n",
       "    </tr>\n",
       "    <tr>\n",
       "      <th>3</th>\n",
       "      <td>242.537149</td>\n",
       "      <td>54.359664</td>\n",
       "      <td>7.08880</td>\n",
       "      <td>yMeanPSFMag</td>\n",
       "      <td>-999.00000</td>\n",
       "      <td>-999.00000</td>\n",
       "      <td>-999.0</td>\n",
       "      <td>-999.00000</td>\n",
       "      <td>7.08880</td>\n",
       "      <td>-999.0000</td>\n",
       "      <td>...</td>\n",
       "      <td>-999.0</td>\n",
       "      <td>-999.000</td>\n",
       "      <td>13.6783</td>\n",
       "      <td>-999.0000</td>\n",
       "      <td>-999.0000</td>\n",
       "      <td>-999.0</td>\n",
       "      <td>-999.0000</td>\n",
       "      <td>18.206600</td>\n",
       "      <td>32</td>\n",
       "      <td>268513280</td>\n",
       "    </tr>\n",
       "    <tr>\n",
       "      <th>4</th>\n",
       "      <td>244.272341</td>\n",
       "      <td>55.269016</td>\n",
       "      <td>7.53716</td>\n",
       "      <td>yMeanPSFMag</td>\n",
       "      <td>10.75600</td>\n",
       "      <td>9.50143</td>\n",
       "      <td>-999.0</td>\n",
       "      <td>8.16382</td>\n",
       "      <td>7.53716</td>\n",
       "      <td>12.8689</td>\n",
       "      <td>...</td>\n",
       "      <td>-999.0</td>\n",
       "      <td>11.075</td>\n",
       "      <td>10.1184</td>\n",
       "      <td>13.6847</td>\n",
       "      <td>13.8894</td>\n",
       "      <td>-999.0</td>\n",
       "      <td>14.5503</td>\n",
       "      <td>13.785300</td>\n",
       "      <td>32</td>\n",
       "      <td>268959744</td>\n",
       "    </tr>\n",
       "  </tbody>\n",
       "</table>\n",
       "<p>5 rows × 21 columns</p>\n",
       "</div>"
      ],
      "text/plain": [
       "           ra        dec  yminMag     ymin_col  gMeanPSFMag  rMeanPSFMag  \\\n",
       "0  241.093416  55.335304  6.49163  yMeanPSFMag   -999.00000   -999.00000   \n",
       "1  242.573392  54.657916  6.90106  yMeanPSFMag      8.84053      8.17406   \n",
       "2  242.573199  54.658166  7.00679  yMeanPSFMag     10.15500   -999.00000   \n",
       "3  242.537149  54.359664  7.08880  yMeanPSFMag   -999.00000   -999.00000   \n",
       "4  244.272341  55.269016  7.53716  yMeanPSFMag     10.75600      9.50143   \n",
       "\n",
       "   iMeanPSFMag  zMeanPSFMag  yMeanPSFMag  gMeanKronMag     ...       \\\n",
       "0       -999.0   -999.00000      6.49163     -999.0000     ...        \n",
       "1       -999.0   -999.00000      6.90106       12.3405     ...        \n",
       "2       -999.0   -999.00000      7.00679       12.5871     ...        \n",
       "3       -999.0   -999.00000      7.08880     -999.0000     ...        \n",
       "4       -999.0      8.16382      7.53716       12.8689     ...        \n",
       "\n",
       "   iMeanKronMag  zMeanKronMag  yMeanKronMag  gMeanApMag  rMeanApMag  \\\n",
       "0        -999.0      -999.000       12.9557   -999.0000   -999.0000   \n",
       "1        -999.0      -999.000       10.4736     15.6011     15.3494   \n",
       "2        -999.0      -999.000     -999.0000     13.5589   -999.0000   \n",
       "3        -999.0      -999.000       13.6783   -999.0000   -999.0000   \n",
       "4        -999.0        11.075       10.1184     13.6847     13.8894   \n",
       "\n",
       "   iMeanApMag  zMeanApMag  yMeanApMag  qualityFlag  objInfoFlag  \n",
       "0      -999.0   -999.0000   17.439899           32    268513280  \n",
       "1      -999.0   -999.0000   13.094000          160   1343750144  \n",
       "2      -999.0   -999.0000 -999.000000           32    268959744  \n",
       "3      -999.0   -999.0000   18.206600           32    268513280  \n",
       "4      -999.0     14.5503   13.785300           32    268959744  \n",
       "\n",
       "[5 rows x 21 columns]"
      ]
     },
     "execution_count": 10,
     "metadata": {},
     "output_type": "execute_result"
    }
   ],
   "source": [
    "df.head()"
   ]
  },
  {
   "cell_type": "markdown",
   "metadata": {},
   "source": [
    "## Add x,y coord"
   ]
  },
  {
   "cell_type": "code",
   "execution_count": 11,
   "metadata": {
    "collapsed": true
   },
   "outputs": [],
   "source": [
    "import astropy.io.fits as fits\n",
    "import astropy.wcs as wcs\n",
    "from astropy import units as u\n",
    "from astropy.coordinates import SkyCoord"
   ]
  },
  {
   "cell_type": "code",
   "execution_count": 12,
   "metadata": {},
   "outputs": [
    {
     "name": "stdout",
     "output_type": "stream",
     "text": [
      "get src_coord\n",
      "write new df 1229661 cols in quad A\n",
      "get src_coord\n",
      "write new df 1229661 cols in quad B\n",
      "get src_coord\n",
      "write new df 1229661 cols in quad C\n",
      "get src_coord\n",
      "write new df 1229661 cols in quad D\n"
     ]
    }
   ],
   "source": [
    "hdrdir = '/Users/ytcheng/ciber/doc/20170617_Stacking/maps/astroutputs/inst1/'\n",
    "order = order[:2] + ['x','y'] + order[2:]\n",
    "\n",
    "for quad in ['A','B','C','D']:\n",
    "    hdulist = fits.open(hdrdir + 'SWIRE_'+quad+'_astr.fits')\n",
    "    wcs_hdr=wcs.WCS(hdulist[('primary',1)].header, hdulist)\n",
    "    hdulist.close()\n",
    "    src_coord = SkyCoord(ra=df['ra']*u.degree, dec=df['dec']*u.degree, frame='icrs')\n",
    "    print('get src_coord')\n",
    "    \n",
    "    x_arr, y_arr = wcs_hdr.all_world2pix(df['ra'],df['dec'],0)\n",
    "    df['x'] = x_arr\n",
    "    df['y'] = y_arr\n",
    "    df = df[order]\n",
    "    \n",
    "    df.to_csv(datadir + 'SWIRE_'+quad+'.csv',index=False)\n",
    "    \n",
    "    print('write new df {} cols in quad {}'.format(len(df),quad))"
   ]
  }
 ],
 "metadata": {
  "anaconda-cloud": {},
  "kernelspec": {
   "display_name": "Python [default]",
   "language": "python",
   "name": "python3"
  },
  "language_info": {
   "codemirror_mode": {
    "name": "ipython",
    "version": 3
   },
   "file_extension": ".py",
   "mimetype": "text/x-python",
   "name": "python",
   "nbconvert_exporter": "python",
   "pygments_lexer": "ipython3",
   "version": "3.5.4"
  },
  "varInspector": {
   "cols": {
    "lenName": 16,
    "lenType": 16,
    "lenVar": 40
   },
   "kernels_config": {
    "python": {
     "delete_cmd_postfix": "",
     "delete_cmd_prefix": "del ",
     "library": "var_list.py",
     "varRefreshCmd": "print(var_dic_list())"
    },
    "r": {
     "delete_cmd_postfix": ") ",
     "delete_cmd_prefix": "rm(",
     "library": "var_list.r",
     "varRefreshCmd": "cat(var_dic_list()) "
    }
   },
   "position": {
    "height": "464px",
    "left": "858px",
    "right": "20px",
    "top": "195px",
    "width": "350px"
   },
   "types_to_exclude": [
    "module",
    "function",
    "builtin_function_or_method",
    "instance",
    "_Feature"
   ],
   "window_display": false
  }
 },
 "nbformat": 4,
 "nbformat_minor": 2
}
